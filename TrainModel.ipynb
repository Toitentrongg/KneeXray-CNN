{
 "cells": [
  {
   "cell_type": "code",
   "execution_count": null,
   "id": "initial_id",
   "metadata": {
    "collapsed": true
   },
   "outputs": [],
   "source": [
    "import tensorflow as tf\n",
    "from tensorflow.keras.applications import DenseNet121\n",
    "from tensorflow.keras.preprocessing.image import ImageDataGenerator\n",
    "from tensorflow.keras import optimizers\n",
    "from tensorflow.keras.callbacks import ReduceLROnPlateau, EarlyStopping, ModelCheckpoint\n",
    "from tensorflow.keras import backend as K\n",
    "import numpy as np\n",
    "from sklearn.utils.class_weight import compute_class_weight\n"
   ]
  },
  {
   "metadata": {},
   "cell_type": "code",
   "outputs": [],
   "execution_count": null,
   "source": [
    "# Định nghĩa hàm Focal Loss\n",
    "def focal_loss(gamma=2.0, alpha=0.25):\n",
    "    def focal_loss_fixed(y_true, y_pred):\n",
    "        epsilon = K.epsilon()\n",
    "        y_pred = K.clip(y_pred, epsilon, 1.0 - epsilon)\n",
    "        y_true = tf.cast(y_true, tf.float32)\n",
    "        alpha_t = y_true * alpha + (K.ones_like(y_true) - y_true) * (1 - alpha)\n",
    "        p_t = y_true * y_pred + (K.ones_like(y_true) - y_true) * (1 - y_pred)\n",
    "        fl = -alpha_t * K.pow((K.ones_like(y_true) - p_t), gamma) * K.log(p_t)\n",
    "        return K.mean(K.sum(fl, axis=-1))\n",
    "    return focal_loss_fixed"
   ],
   "id": "361d94dc10f72fd2"
  },
  {
   "metadata": {},
   "cell_type": "code",
   "outputs": [],
   "execution_count": null,
   "source": [
    "# Đường dẫn dữ liệu (sau khi xóa folder \"Nghi ngờ\")\n",
    "train_dir = 'kneeKL224/train/'\n",
    "test_dir = 'kneeKL224/val/'\n",
    "\n",
    "# Các thông số đầu vào\n",
    "input_size = (224, 224)\n",
    "batch_size = 32\n",
    "num_classes = 4 # Cập nhật số lớp đầu ra theo dữ liệu\n",
    "epochs = 50"
   ],
   "id": "93ab8b6d63ff4b5b"
  },
  {
   "metadata": {},
   "cell_type": "code",
   "outputs": [],
   "execution_count": null,
   "source": [
    "\n",
    "# Cải thiện Augmentation\n",
    "train_datagen = ImageDataGenerator(\n",
    "    rescale=1./255,\n",
    "    brightness_range=[0.8, 1.2],  # Điều chỉnh độ sáng nhẹ\n",
    "    horizontal_flip=True,  # Lật ngang\n",
    "    fill_mode='nearest'\n",
    ")\n",
    "\n",
    "test_datagen = ImageDataGenerator(rescale=1./255)\n",
    "\n",
    "# Thiết lập bộ tạo dữ liệu\n",
    "train_generator = train_datagen.flow_from_directory(\n",
    "    train_dir,\n",
    "    target_size=(224, 224),\n",
    "    batch_size=batch_size,\n",
    "    class_mode='categorical'\n",
    ")\n",
    "\n",
    "test_generator = test_datagen.flow_from_directory(\n",
    "    test_dir,\n",
    "    target_size=(224, 224),\n",
    "    batch_size=batch_size,\n",
    "    class_mode='categorical'\n",
    ")\n",
    "\n",
    "# Tính trọng số lớp cho việc huấn luyện không cân bằng\n",
    "class_labels = train_generator.classes\n",
    "class_weights = compute_class_weight(class_weight='balanced', classes=np.unique(class_labels), y=class_labels)\n",
    "class_weights_dict = dict(enumerate(class_weights))"
   ],
   "id": "ea084e4613e6fe59"
  },
  {
   "metadata": {},
   "cell_type": "code",
   "outputs": [],
   "execution_count": null,
   "source": [
    "\n",
    "# Khởi tạo mô hình DenseNet121\n",
    "base_model = DenseNet121(weights='imagenet', include_top=False, input_shape=(224, 224, 3))\n",
    "\n",
    "# Fine-tune 40-50 lớp cuối\n",
    "for layer in base_model.layers[:-50]:  # Đóng băng các lớp trước 50 lớp cuối\n",
    "    layer.trainable = False\n",
    "for layer in base_model.layers[-50:]:  # Cho phép trainable 50 lớp cuối\n",
    "    layer.trainable = True\n",
    "\n",
    "# Tạo mô hình mới\n",
    "model = tf.keras.Sequential([\n",
    "    base_model,\n",
    "    tf.keras.layers.GlobalAveragePooling2D(),\n",
    "    tf.keras.layers.Dense(512, activation='relu'),\n",
    "    tf.keras.layers.Dropout(0.5),\n",
    "    tf.keras.layers.Dense(num_classes, activation='softmax')\n",
    "])\n",
    "# Cấu hình quá trình huấn luyện với Focal Loss\n",
    "initial_learning_rate = 0.0007\n",
    "model.compile(optimizer=optimizers.Adam(learning_rate=initial_learning_rate),\n",
    "              loss=focal_loss(gamma=2.0, alpha=0.25),\n",
    "              metrics=['accuracy'])\n",
    "# Định nghĩa callback\n",
    "callbacks = [\n",
    "    ReduceLROnPlateau(monitor='val_loss', factor=0.3, patience=5, min_lr=1e-6, verbose=1),\n",
    "    EarlyStopping(monitor='val_loss', patience=10, restore_best_weights=True),\n",
    "    ModelCheckpoint('best_model.keras', monitor='val_accuracy', save_best_only=True, verbose=1)\n",
    "]"
   ],
   "id": "3d3320693694c059"
  },
  {
   "metadata": {},
   "cell_type": "code",
   "outputs": [],
   "execution_count": null,
   "source": [
    "# Huấn luyện mô hình\n",
    "history = model.fit(\n",
    "    train_generator,\n",
    "    epochs=epochs,\n",
    "    steps_per_epoch=train_generator.samples // batch_size,\n",
    "    validation_data=test_generator,\n",
    "    validation_steps=test_generator.samples // batch_size,\n",
    "    class_weight=class_weights_dict,\n",
    "    callbacks=callbacks\n",
    ")\n"
   ],
   "id": "a138d08a3e26fd65"
  },
  {
   "metadata": {},
   "cell_type": "code",
   "outputs": [],
   "execution_count": null,
   "source": [
    "# In độ chính xác tốt nhất từ lịch sử huấn luyện\n",
    "best_val_accuracy = max(history.history['val_accuracy'])\n",
    "print(f\"Độ chính xác cao nhất trên tập validation: {best_val_accuracy * 100:.2f}%\")\n",
    "\n",
    "# Đánh giá mô hình tốt nhất\n",
    "best_model = tf.keras.models.load_model(\n",
    "    'best_model_4_classes.keras',\n",
    "    custom_objects={'focal_loss_fixed': focal_loss()}\n",
    ")\n",
    "\n",
    "val_loss, val_accuracy = best_model.evaluate(test_generator)\n",
    "print(f\"Độ chính xác của mô hình tốt nhất: {val_accuracy * 100:.2f}%\")"
   ],
   "id": "964363fed70af88a"
  },
  {
   "metadata": {},
   "cell_type": "code",
   "outputs": [],
   "execution_count": null,
   "source": [
    "import matplotlib.pyplot as plt\n",
    "\n",
    "# Vẽ đồ thị Accuracy\n",
    "plt.figure(figsize=(12, 5))\n",
    "\n",
    "# Đồ thị accuracy\n",
    "plt.subplot(1, 2, 1)\n",
    "plt.plot(history.history['accuracy'], label='Train Accuracy')\n",
    "plt.plot(history.history['val_accuracy'], label='Validation Accuracy')\n",
    "plt.xlabel('Epochs')\n",
    "plt.ylabel('Accuracy')\n",
    "plt.title('Training and Validation Accuracy')\n",
    "plt.legend()\n",
    "\n",
    "# Đồ thị loss\n",
    "plt.subplot(1, 2, 2)\n",
    "plt.plot(history.history['loss'], label='Train Loss')\n",
    "plt.plot(history.history['val_loss'], label='Validation Loss')\n",
    "plt.xlabel('Epochs')\n",
    "plt.ylabel('Loss')\n",
    "plt.title('Training and Validation Loss')\n",
    "plt.legend()\n",
    "\n",
    "plt.tight_layout()\n",
    "plt.show()\n"
   ],
   "id": "700962ce15491d07"
  }
 ],
 "metadata": {
  "kernelspec": {
   "display_name": "Python 3",
   "language": "python",
   "name": "python3"
  },
  "language_info": {
   "codemirror_mode": {
    "name": "ipython",
    "version": 2
   },
   "file_extension": ".py",
   "mimetype": "text/x-python",
   "name": "python",
   "nbconvert_exporter": "python",
   "pygments_lexer": "ipython2",
   "version": "2.7.6"
  }
 },
 "nbformat": 4,
 "nbformat_minor": 5
}
